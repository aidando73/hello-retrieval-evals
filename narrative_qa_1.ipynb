{
 "cells": [
  {
   "cell_type": "code",
   "execution_count": 2,
   "metadata": {},
   "outputs": [
    {
     "name": "stderr",
     "output_type": "stream",
     "text": [
      "/Users/aidand/dev/hello-retrieval-eval/env/lib/python3.10/site-packages/tqdm/auto.py:21: TqdmWarning: IProgress not found. Please update jupyter and ipywidgets. See https://ipywidgets.readthedocs.io/en/stable/user_install.html\n",
      "  from .autonotebook import tqdm as notebook_tqdm\n",
      "Downloading readme: 100%|██████████| 10.6k/10.6k [00:00<00:00, 18.5MB/s]\n",
      "Downloading data:   8%|▊         | 2/24 [03:03<35:19, 96.33s/files]Error while downloading from https://huggingface.co/datasets/deepmind/narrativeqa/resolve/2e643e7363944af1c33a652d1c87320d0871c4e4/data/train-00016-of-00024.parquet: HTTPSConnectionPool(host='cdn-lfs.hf.co', port=443): Read timed out.\n",
      "Trying to resume download...\n",
      "Downloading data: 100%|██████████| 24/24 [07:45<00:00, 19.38s/files]  \n",
      "Downloading data: 100%|██████████| 8.56M/8.56M [00:01<00:00, 6.80MB/s]\n",
      "Downloading data: 100%|██████████| 44.5M/44.5M [00:03<00:00, 11.2MB/s]\n",
      "Downloading data: 100%|██████████| 101M/101M [00:09<00:00, 10.8MB/s] \n",
      "Downloading data: 100%|██████████| 222M/222M [00:36<00:00, 6.11MB/s] \n",
      "Downloading data: 100%|██████████| 60.8M/60.8M [00:05<00:00, 11.1MB/s]\n",
      "Downloading data: 100%|██████████| 121M/121M [00:10<00:00, 11.9MB/s] \n",
      "Downloading data: 100%|██████████| 243M/243M [00:19<00:00, 12.5MB/s] \n",
      "Downloading data: 100%|██████████| 58.5M/58.5M [00:05<00:00, 11.0MB/s]\n",
      "Downloading data: 100%|██████████| 10.0M/10.0M [00:01<00:00, 6.51MB/s]\n",
      "Downloading data: 100%|██████████| 24.9M/24.9M [00:02<00:00, 8.38MB/s]\n",
      "Downloading data: 100%|██████████| 68.0M/68.0M [00:06<00:00, 11.0MB/s]\n",
      "Generating train split: 100%|██████████| 32747/32747 [00:10<00:00, 3197.10 examples/s]\n",
      "Generating test split: 100%|██████████| 10557/10557 [00:03<00:00, 3403.02 examples/s]\n",
      "Generating validation split: 100%|██████████| 3461/3461 [00:00<00:00, 4397.25 examples/s]\n"
     ]
    },
    {
     "data": {
      "text/plain": [
       "DatasetDict({\n",
       "    train: Dataset({\n",
       "        features: ['document', 'question', 'answers'],\n",
       "        num_rows: 32747\n",
       "    })\n",
       "    test: Dataset({\n",
       "        features: ['document', 'question', 'answers'],\n",
       "        num_rows: 10557\n",
       "    })\n",
       "    validation: Dataset({\n",
       "        features: ['document', 'question', 'answers'],\n",
       "        num_rows: 3461\n",
       "    })\n",
       "})"
      ]
     },
     "execution_count": 2,
     "metadata": {},
     "output_type": "execute_result"
    }
   ],
   "source": [
    "import datasets\n",
    "from datasets import load_dataset\n",
    "\n",
    "dataset = load_dataset('deepmind/narrativeqa')\n",
    "\n",
    "dataset"
   ]
  },
  {
   "cell_type": "code",
   "execution_count": 33,
   "metadata": {},
   "outputs": [
    {
     "data": {
      "text/plain": [
       "{'text': 'Who kills Stoick?',\n",
       " 'tokens': array(['Who', 'kills', 'Stoick', '?'], dtype=object)}"
      ]
     },
     "metadata": {},
     "output_type": "display_data"
    }
   ],
   "source": [
    "from IPython.display import display, Markdown\n",
    "\n",
    "df = dataset['validation'].to_pandas()\n",
    "\n",
    "display(df.sample(1).iloc[0].question)"
   ]
  }
 ],
 "metadata": {
  "kernelspec": {
   "display_name": "Python 3",
   "language": "python",
   "name": "python3"
  },
  "language_info": {
   "codemirror_mode": {
    "name": "ipython",
    "version": 3
   },
   "file_extension": ".py",
   "mimetype": "text/x-python",
   "name": "python",
   "nbconvert_exporter": "python",
   "pygments_lexer": "ipython3",
   "version": "3.10.15"
  }
 },
 "nbformat": 4,
 "nbformat_minor": 2
}
