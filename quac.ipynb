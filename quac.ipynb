{
 "cells": [
  {
   "cell_type": "code",
   "execution_count": 13,
   "metadata": {},
   "outputs": [
    {
     "name": "stderr",
     "output_type": "stream",
     "text": [
      "/Users/aidand/dev/hello-retrieval-eval/env/lib/python3.10/site-packages/datasets/load.py:1486: FutureWarning: The repository for allenai/quac contains custom code which must be executed to correctly load the dataset. You can inspect the repository content at https://hf.co/datasets/allenai/quac\n",
      "You can avoid this message in future by passing the argument `trust_remote_code=True`.\n",
      "Passing `trust_remote_code=True` will be mandatory to load this dataset from the next major release of `datasets`.\n",
      "  warnings.warn(\n"
     ]
    },
    {
     "data": {
      "text/html": [
       "<div>\n",
       "<style scoped>\n",
       "    .dataframe tbody tr th:only-of-type {\n",
       "        vertical-align: middle;\n",
       "    }\n",
       "\n",
       "    .dataframe tbody tr th {\n",
       "        vertical-align: top;\n",
       "    }\n",
       "\n",
       "    .dataframe thead th {\n",
       "        text-align: right;\n",
       "    }\n",
       "</style>\n",
       "<table border=\"1\" class=\"dataframe\">\n",
       "  <thead>\n",
       "    <tr style=\"text-align: right;\">\n",
       "      <th></th>\n",
       "      <th>dialogue_id</th>\n",
       "      <th>wikipedia_page_title</th>\n",
       "      <th>background</th>\n",
       "      <th>section_title</th>\n",
       "      <th>context</th>\n",
       "      <th>turn_ids</th>\n",
       "      <th>questions</th>\n",
       "      <th>followups</th>\n",
       "      <th>yesnos</th>\n",
       "      <th>answers</th>\n",
       "      <th>orig_answers</th>\n",
       "    </tr>\n",
       "  </thead>\n",
       "  <tbody>\n",
       "    <tr>\n",
       "      <th>0</th>\n",
       "      <td>C_69758fcdfc1f46baba0e92c0f3b0919c_1</td>\n",
       "      <td>Malayali</td>\n",
       "      <td>The Malayali people or Keralite people (also s...</td>\n",
       "      <td>Geographic distribution and population</td>\n",
       "      <td>According to the Indian census of 2001, there ...</td>\n",
       "      <td>[C_69758fcdfc1f46baba0e92c0f3b0919c_1_q#0, C_6...</td>\n",
       "      <td>[Where is Malayali located?, What other langua...</td>\n",
       "      <td>[2, 1, 1, 1, 1, 1, 1]</td>\n",
       "      <td>[2, 2, 2, 2, 2, 0, 2]</td>\n",
       "      <td>{'texts': [['30,803,747 speakers of Malayalam ...</td>\n",
       "      <td>{'texts': ['30,803,747 speakers of Malayalam i...</td>\n",
       "    </tr>\n",
       "    <tr>\n",
       "      <th>1</th>\n",
       "      <td>C_69758fcdfc1f46baba0e92c0f3b0919c_0</td>\n",
       "      <td>Malayali</td>\n",
       "      <td>The Malayali people or Keralite people (also s...</td>\n",
       "      <td>Language and literature</td>\n",
       "      <td>Malayalam is the language spoken by the Malaya...</td>\n",
       "      <td>[C_69758fcdfc1f46baba0e92c0f3b0919c_0_q#0, C_6...</td>\n",
       "      <td>[what language do they speak?, Do they speak a...</td>\n",
       "      <td>[0, 0, 0, 0, 0, 0, 0]</td>\n",
       "      <td>[2, 2, 2, 2, 2, 2, 2]</td>\n",
       "      <td>{'texts': [['Malayalam is the language spoken ...</td>\n",
       "      <td>{'texts': ['Malayalam is the language spoken b...</td>\n",
       "    </tr>\n",
       "    <tr>\n",
       "      <th>2</th>\n",
       "      <td>C_de8ea5cde2934ac2899df443ca40d105_0</td>\n",
       "      <td>Saosin</td>\n",
       "      <td>Saosin is an American post-hardcore band from ...</td>\n",
       "      <td>Arrival of Cove Reber and Saosin EP (2004-2006)</td>\n",
       "      <td>After the audition process and several guest v...</td>\n",
       "      <td>[C_de8ea5cde2934ac2899df443ca40d105_0_q#0, C_d...</td>\n",
       "      <td>[What do we know about Cove Reber?, How did he...</td>\n",
       "      <td>[0, 0, 0, 0, 1, 1, 1]</td>\n",
       "      <td>[2, 2, 2, 2, 2, 2, 2]</td>\n",
       "      <td>{'texts': [['19-year-old Cove Reber was announ...</td>\n",
       "      <td>{'texts': ['19-year-old Cove Reber was announc...</td>\n",
       "    </tr>\n",
       "    <tr>\n",
       "      <th>3</th>\n",
       "      <td>C_de8ea5cde2934ac2899df443ca40d105_1</td>\n",
       "      <td>Saosin</td>\n",
       "      <td>Saosin is an American post-hardcore band from ...</td>\n",
       "      <td>Formation and Translating the Name (2003-2004)</td>\n",
       "      <td>The original lineup for Saosin, consisting of ...</td>\n",
       "      <td>[C_de8ea5cde2934ac2899df443ca40d105_1_q#0, C_d...</td>\n",
       "      <td>[Who formed Saosin?, When was the band founded...</td>\n",
       "      <td>[0, 0, 0, 0, 0, 0, 2, 0, 0, 0]</td>\n",
       "      <td>[2, 2, 2, 2, 2, 2, 2, 2, 2, 2]</td>\n",
       "      <td>{'texts': [['original lineup for Saosin, consi...</td>\n",
       "      <td>{'texts': ['original lineup for Saosin, consis...</td>\n",
       "    </tr>\n",
       "    <tr>\n",
       "      <th>4</th>\n",
       "      <td>C_801cea2613fb426c9e166d86426e2ac8_0</td>\n",
       "      <td>Coolio</td>\n",
       "      <td>Artis Leon Ivey Jr. (born August 1, 1963), kno...</td>\n",
       "      <td>Red Hot Organization and Tommy Boy Records dis...</td>\n",
       "      <td>In 1996, Coolio appeared on the Red Hot Organi...</td>\n",
       "      <td>[C_801cea2613fb426c9e166d86426e2ac8_0_q#0, C_8...</td>\n",
       "      <td>[How was he associated to Tommy Boy?, Why was ...</td>\n",
       "      <td>[2, 2, 2, 2, 2, 2, 2, 2]</td>\n",
       "      <td>[2, 2, 2, 2, 2, 2, 0, 2]</td>\n",
       "      <td>{'texts': [['Coolio was dropped from Tommy Boy...</td>\n",
       "      <td>{'texts': ['Coolio was dropped from Tommy Boy ...</td>\n",
       "    </tr>\n",
       "  </tbody>\n",
       "</table>\n",
       "</div>"
      ],
      "text/plain": [
       "                            dialogue_id wikipedia_page_title  \\\n",
       "0  C_69758fcdfc1f46baba0e92c0f3b0919c_1             Malayali   \n",
       "1  C_69758fcdfc1f46baba0e92c0f3b0919c_0             Malayali   \n",
       "2  C_de8ea5cde2934ac2899df443ca40d105_0               Saosin   \n",
       "3  C_de8ea5cde2934ac2899df443ca40d105_1               Saosin   \n",
       "4  C_801cea2613fb426c9e166d86426e2ac8_0               Coolio   \n",
       "\n",
       "                                          background  \\\n",
       "0  The Malayali people or Keralite people (also s...   \n",
       "1  The Malayali people or Keralite people (also s...   \n",
       "2  Saosin is an American post-hardcore band from ...   \n",
       "3  Saosin is an American post-hardcore band from ...   \n",
       "4  Artis Leon Ivey Jr. (born August 1, 1963), kno...   \n",
       "\n",
       "                                       section_title  \\\n",
       "0             Geographic distribution and population   \n",
       "1                            Language and literature   \n",
       "2    Arrival of Cove Reber and Saosin EP (2004-2006)   \n",
       "3     Formation and Translating the Name (2003-2004)   \n",
       "4  Red Hot Organization and Tommy Boy Records dis...   \n",
       "\n",
       "                                             context  \\\n",
       "0  According to the Indian census of 2001, there ...   \n",
       "1  Malayalam is the language spoken by the Malaya...   \n",
       "2  After the audition process and several guest v...   \n",
       "3  The original lineup for Saosin, consisting of ...   \n",
       "4  In 1996, Coolio appeared on the Red Hot Organi...   \n",
       "\n",
       "                                            turn_ids  \\\n",
       "0  [C_69758fcdfc1f46baba0e92c0f3b0919c_1_q#0, C_6...   \n",
       "1  [C_69758fcdfc1f46baba0e92c0f3b0919c_0_q#0, C_6...   \n",
       "2  [C_de8ea5cde2934ac2899df443ca40d105_0_q#0, C_d...   \n",
       "3  [C_de8ea5cde2934ac2899df443ca40d105_1_q#0, C_d...   \n",
       "4  [C_801cea2613fb426c9e166d86426e2ac8_0_q#0, C_8...   \n",
       "\n",
       "                                           questions  \\\n",
       "0  [Where is Malayali located?, What other langua...   \n",
       "1  [what language do they speak?, Do they speak a...   \n",
       "2  [What do we know about Cove Reber?, How did he...   \n",
       "3  [Who formed Saosin?, When was the band founded...   \n",
       "4  [How was he associated to Tommy Boy?, Why was ...   \n",
       "\n",
       "                        followups                          yesnos  \\\n",
       "0           [2, 1, 1, 1, 1, 1, 1]           [2, 2, 2, 2, 2, 0, 2]   \n",
       "1           [0, 0, 0, 0, 0, 0, 0]           [2, 2, 2, 2, 2, 2, 2]   \n",
       "2           [0, 0, 0, 0, 1, 1, 1]           [2, 2, 2, 2, 2, 2, 2]   \n",
       "3  [0, 0, 0, 0, 0, 0, 2, 0, 0, 0]  [2, 2, 2, 2, 2, 2, 2, 2, 2, 2]   \n",
       "4        [2, 2, 2, 2, 2, 2, 2, 2]        [2, 2, 2, 2, 2, 2, 0, 2]   \n",
       "\n",
       "                                             answers  \\\n",
       "0  {'texts': [['30,803,747 speakers of Malayalam ...   \n",
       "1  {'texts': [['Malayalam is the language spoken ...   \n",
       "2  {'texts': [['19-year-old Cove Reber was announ...   \n",
       "3  {'texts': [['original lineup for Saosin, consi...   \n",
       "4  {'texts': [['Coolio was dropped from Tommy Boy...   \n",
       "\n",
       "                                        orig_answers  \n",
       "0  {'texts': ['30,803,747 speakers of Malayalam i...  \n",
       "1  {'texts': ['Malayalam is the language spoken b...  \n",
       "2  {'texts': ['19-year-old Cove Reber was announc...  \n",
       "3  {'texts': ['original lineup for Saosin, consis...  \n",
       "4  {'texts': ['Coolio was dropped from Tommy Boy ...  "
      ]
     },
     "execution_count": 13,
     "metadata": {},
     "output_type": "execute_result"
    }
   ],
   "source": [
    "import datasets\n",
    "import pandas as pd\n",
    "\n",
    "dataset = datasets.load_dataset(\"allenai/quac\")\n",
    "df = pd.DataFrame(dataset[\"train\"])\n",
    "df.head()"
   ]
  },
  {
   "cell_type": "code",
   "execution_count": null,
   "metadata": {},
   "outputs": [
    {
     "data": {
      "text/plain": [
       "2383"
      ]
     },
     "execution_count": 11,
     "metadata": {},
     "output_type": "execute_result"
    }
   ],
   "source": [
    "# Calculate the length of each context\n",
    "df['context_length'] = df['context'].apply(len)\n",
    "\n",
    "# Calculate the average length\n",
    "average_context_length = df['context_length'].mean()\n",
    "int(average_context_length) # 3 times the size of squad dataset"
   ]
  },
  {
   "cell_type": "code",
   "execution_count": 15,
   "metadata": {},
   "outputs": [
    {
     "data": {
      "text/plain": [
       "\"Unable to reach terms with the New York Giants, Strong signed instead with the Staten Island Stapletons. He played for the Stapletons for four years from 1929 to 1932. While statistics are not available for the 1929 NFL season, Strong was regarded as one of the best backs in the NFL. He started all 10 games at halfback for the 1929 Stapletons. In his first NFL game, he threw a long forward pass to set up the Stapleton's first touchdown and scored all of the team's 12 points on two short touchdown runs. He also had a 70-yard run in a scoreless tie with the Orange Tornadoes on November 3, 1929. Two days later, Strong had a 50-yard touchdown run against the Providence Steam Roller. At the end of the 1929 season, Strong was selected by Collyer's Eye and the Green Bay Press-Gazette as a second-team All-Pro.  In 1930, Strong appeared in all 12 games for the Stapletons and scored 53 points on two rushing touchdowns, five receiving touchdowns, one field goal, and eight extra points. His point total ranked third in the NFL in 1930, trailing only Jack McBride (56 points) and Verne Lewellen (54 points). On September 28, 1930, he caught two touchdown passes, threw a 40-yard pass that set up a third touchdown, and kicked three extra points in a 21-0 victory over the Frankford Yellow Jackets. In December 1930, he led the Stapletons to a 16-7 victory over the New York Giants for the pro football championship of New York City; Strong accounted for all 16 Stapleton points, running 98 yards for a touchdown, passing for a second touchdown, and kicking a field goal and an extra point. He was selected as a first-team player on the 1930 All-Pro Team by Collyer's Eye and the Green Bay Press-Gazette.  In 1931, Strong appeared in all 11 games for the Stapletons and scored 53 points on six rushing touchdowns, one punt return for a touchdown, two field goals, and five extra points. His 53 points ranked fourth in the NFL, trailing only Johnny Blood (84 points), Ernie Nevers (66 points), and Dutch Clark (60 points). On November 22, 1931, Strong scored all 16 points in a 16-7 victory over Cleveland; he had two rushing touchdowns, including a 50-yard run and kicked a field goal and an extra point. At the end of the 1931 season, Strong was selected as an All-Pro for the second year in a row, receiving first-team honors from the United Press (UP) and Collyer's Eye.  Strong's output dropped off in 1932 as he moved to the fullback position. He appeared in 11 games and ranked sixth in the NFL with 375 rushing yards, but scored only 15 points on two touchdowns and three extra points. At the end of the 1932 season, the Stapletons team folded. CANNOTANSWER\""
      ]
     },
     "execution_count": 15,
     "metadata": {},
     "output_type": "execute_result"
    }
   ],
   "source": [
    "sampled_contexts = df['context'].sample(1)\n",
    "sampled_contexts.iloc[0]"
   ]
  },
  {
   "cell_type": "code",
   "execution_count": 14,
   "metadata": {},
   "outputs": [
    {
     "data": {
      "text/plain": [
       "['How did Once perform at the box office?',\n",
       " 'How did it do in Ireland?',\n",
       " 'Was it nominated for any awards?',\n",
       " 'Was it nominated at any other awards shows?',\n",
       " 'Was it nominated for anything else?']"
      ]
     },
     "execution_count": 14,
     "metadata": {},
     "output_type": "execute_result"
    }
   ],
   "source": [
    "sampled_questions = df['questions'].sample(1)\n",
    "sampled_questions.iloc[0]"
   ]
  }
 ],
 "metadata": {
  "kernelspec": {
   "display_name": "Python 3",
   "language": "python",
   "name": "python3"
  },
  "language_info": {
   "codemirror_mode": {
    "name": "ipython",
    "version": 3
   },
   "file_extension": ".py",
   "mimetype": "text/x-python",
   "name": "python",
   "nbconvert_exporter": "python",
   "pygments_lexer": "ipython3",
   "version": "3.10.15"
  }
 },
 "nbformat": 4,
 "nbformat_minor": 2
}
